{
 "cells": [
  {
   "cell_type": "code",
   "execution_count": 1,
   "id": "49032d2b",
   "metadata": {},
   "outputs": [
    {
     "data": {
      "application/javascript": [
       "\n",
       "try {\n",
       "require(['notebook/js/codecell'], function(codecell) {\n",
       "  codecell.CodeCell.options_default.highlight_modes[\n",
       "      'magic_text/x-csrc'] = {'reg':[/^%%microblaze/]};\n",
       "  Jupyter.notebook.events.one('kernel_ready.Kernel', function(){\n",
       "      Jupyter.notebook.get_cells().map(function(cell){\n",
       "          if (cell.cell_type == 'code'){ cell.auto_highlight(); } }) ;\n",
       "  });\n",
       "});\n",
       "} catch (e) {};\n"
      ]
     },
     "metadata": {},
     "output_type": "display_data"
    },
    {
     "data": {
      "application/javascript": [
       "\n",
       "try {\n",
       "require(['notebook/js/codecell'], function(codecell) {\n",
       "  codecell.CodeCell.options_default.highlight_modes[\n",
       "      'magic_text/x-csrc'] = {'reg':[/^%%pybind11/]};\n",
       "  Jupyter.notebook.events.one('kernel_ready.Kernel', function(){\n",
       "      Jupyter.notebook.get_cells().map(function(cell){\n",
       "          if (cell.cell_type == 'code'){ cell.auto_highlight(); } }) ;\n",
       "  });\n",
       "});\n",
       "} catch (e) {};\n"
      ]
     },
     "metadata": {},
     "output_type": "display_data"
    }
   ],
   "source": [
    "from pynq import Overlay, allocate\n",
    "from pynq.lib.video import *\n",
    "from itek import *\n",
    "from time import sleep, time\n",
    "import numpy as np\n",
    "import matplotlib.pyplot as plt\n",
    "%matplotlib inline"
   ]
  },
  {
   "cell_type": "code",
   "execution_count": 2,
   "id": "cc3e50f1",
   "metadata": {},
   "outputs": [],
   "source": [
    "ol = Overlay(\"vdma_zcu104.bit\")"
   ]
  },
  {
   "cell_type": "code",
   "execution_count": 3,
   "id": "eb6fcdc8",
   "metadata": {},
   "outputs": [],
   "source": [
    "uart = ol.axi_uartlite_0\n",
    "CLRX = ol.CameraLinkRX_0\n",
    "vdma = ol.axi_vdma_0\n",
    "timer = ol.axi_timer_0\n",
    "camera = PNCL(uart)"
   ]
  },
  {
   "cell_type": "markdown",
   "id": "15281859",
   "metadata": {},
   "source": [
    "### Config VDMA"
   ]
  },
  {
   "cell_type": "code",
   "execution_count": 4,
   "id": "7a3f6894",
   "metadata": {},
   "outputs": [],
   "source": [
    "WIDTH = 4096\n",
    "HEIGHT = 1\n",
    "STRIDE = 4096\n",
    "vdma.readchannel.stop()\n",
    "vdma.readchannel.mode = VideoMode(width=WIDTH, height=HEIGHT, bits_per_pixel=32, fps=100000, stride=STRIDE)\n",
    "vdma.readchannel.start()"
   ]
  },
  {
   "cell_type": "markdown",
   "id": "6df0f457",
   "metadata": {},
   "source": [
    "### Config Camera"
   ]
  },
  {
   "cell_type": "code",
   "execution_count": 5,
   "id": "ea1a721b",
   "metadata": {},
   "outputs": [
    {
     "name": "stdout",
     "output_type": "stream",
     "text": [
      "Setting sync=0 >Ok\n",
      "Setting clnk=0 >Ok\n",
      "Setting tprd=10000 >Ok\n",
      "Setting lrps=100 >Ok\n",
      "Setting texp=400 >Ok\n",
      "Setting dmod=0 >Ok\n",
      "Setting hdir=0 >Ok\n",
      "Setting binn=0 >Ok\n",
      "Setting dign=1 >Ok\n",
      "Setting dios=0 >Ok\n",
      "Setting ffcr=0 >Ok\n",
      "Setting ffcm=0 >Ok\n",
      "Setting sroi=0 >Ok\n",
      "Setting lscr=0 >Ok\n",
      "Setting doff=2 >Ok\n",
      "Setting angn=1 >Ok\n"
     ]
    }
   ],
   "source": [
    "config = {\n",
    "    \"sync\": 0,        # Set Synchronization Mode (0/1/2: Free Run/External Pulse/External PWM)\n",
    "    \"clnk\": 0,        # Set Camera Link Mode (0 to 6: 2tap@8bit/4tap@8bit/8tap@8bit/10tap@8bit/2tap@10bit/4tap@10bit/8tap@10bit)\n",
    "    \"tprd\": 10000,     # Set Line Period Time in microsecond (49.00us to 64000us)\n",
    "    \"lrps\": 100,     # Set LineRate (15.63 to 20409.00)\n",
    "    \"texp\": 400,      # Set Expsoure Time in microsecond (3.500000us to 64000.000000us)\n",
    "    \"dmod\": 0,        # Set Data Mode (0/1/2/3: Original/Corrected/Test Pattern1/Test Pattern2)\n",
    "    \"hdir\": 0,        # Set Horizontal Scan Direction (0/1: Left to Right/Right to Left)\n",
    "    \"binn\": 0,        # Set Horizontal Binning Mode (0/1: 1x1/2x1)\n",
    "    \"dign\": 1,        # Set Digital Gain (x0.01 to x8)\n",
    "    \"dios\": 0,        # Set Digital Offset (-1023 to 1023)\n",
    "    \"ffcr\": 0,        # Flat Field Correction (0/1 Disable/Enable)\n",
    "    \"ffcm\": 0,        # Set Flat Field Calibration Mode (0/1 Disable/Enable Calibration Reference)\n",
    "    \"sroi\": 0,        # Set Region of Interest (0/1: Disable/Enable)\n",
    "    \"lscr\": 0,        # Set Line Spatial Correction Mode (0/1: Disable/Enable)\n",
    "    \"doff\": 2,        # Set Black Level (0 to 1023)\n",
    "    \"angn\": 1,        # Set Analog Gain (1~8: x1~x8)\n",
    "}\n",
    "\n",
    "# camera.load(CONFIG_MAX_SPEED)\n",
    "camera.load(config)"
   ]
  },
  {
   "cell_type": "markdown",
   "id": "9baf31b1",
   "metadata": {},
   "source": [
    "### Config the AXI Timer to run in PWM mode"
   ]
  },
  {
   "cell_type": "code",
   "execution_count": 6,
   "id": "a2b45e21",
   "metadata": {},
   "outputs": [],
   "source": [
    "PWM_PERIOD = 25000  # number of clocks\n",
    "PWM_HIGH_TIME = PWM_PERIOD >> 1\n",
    "TLR0 = PWM_PERIOD - 2\n",
    "TLR1 = PWM_HIGH_TIME - 2\n",
    "TCSR0 = 0x0606\n",
    "TCSR1 = 0x0606\n",
    "timer.write(0x4, TLR0)\n",
    "timer.write(0x14, TLR1)\n",
    "timer.write(0x0, TCSR0)\n",
    "timer.write(0x10, TCSR1)"
   ]
  },
  {
   "cell_type": "markdown",
   "id": "8b4d3834",
   "metadata": {},
   "source": [
    "### Config the CameraLinkRX to use external trigger or external PWM"
   ]
  },
  {
   "cell_type": "code",
   "execution_count": 7,
   "id": "d7fe7e63",
   "metadata": {},
   "outputs": [],
   "source": [
    "# External Trigger\n",
    "# CLRX.write(0x0, 0x3)\n",
    "\n",
    "# External PWM\n",
    "CLRX.write(0x0, 0x1)"
   ]
  },
  {
   "cell_type": "markdown",
   "id": "850b1c9f",
   "metadata": {},
   "source": [
    "### Read one frame and plot"
   ]
  },
  {
   "cell_type": "code",
   "execution_count": 12,
   "id": "f40bd307",
   "metadata": {
    "scrolled": false
   },
   "outputs": [
    {
     "data": {
      "text/plain": [
       "[<matplotlib.lines.Line2D at 0xffff881e5e80>]"
      ]
     },
     "execution_count": 12,
     "metadata": {},
     "output_type": "execute_result"
    },
    {
     "data": {
      "image/png": "[encoded data removed]",
      "text/plain": [
       "<Figure size 432x288 with 1 Axes>"
      ]
     },
     "metadata": {
      "needs_background": "light"
     },
     "output_type": "display_data"
    },
    {
     "data": {
      "image/png": "[encoded data removed]",
      "text/plain": [
       "<Figure size 432x288 with 1 Axes>"
      ]
     },
     "metadata": {
      "needs_background": "light"
     },
     "output_type": "display_data"
    }
   ],
   "source": [
    "frame = vdma.readchannel.readframe()\n",
    "\n",
    "plt.figure()\n",
    "plt.ylim((0, 300))\n",
    "plt.plot(frame[0, :, 0])\n",
    "plt.figure()\n",
    "plt.ylim((0, 300))\n",
    "plt.plot(frame[0, :, 1])"
   ]
  },
  {
   "cell_type": "code",
   "execution_count": null,
   "id": "f58d162f",
   "metadata": {},
   "outputs": [],
   "source": [
    "N_frame = 1000\n",
    "t_start = time()\n",
    "for i in range(N_frame):\n",
    "    frame = vdma.readchannel.readframe()\n",
    "t_end = time()\n",
    "t_second = t_end - t_start\n",
    "fps = N_frame / t_second\n",
    "print(\"FPS:\", fps)"
   ]
  },
  {
   "cell_type": "markdown",
   "id": "c9172b17",
   "metadata": {},
   "source": [
    "### Stop VDMA before exit"
   ]
  },
  {
   "cell_type": "code",
   "execution_count": null,
   "id": "56fb468c",
   "metadata": {},
   "outputs": [],
   "source": [
    "vdma.readchannel.stop()"
   ]
  },
  {
   "cell_type": "code",
   "execution_count": null,
   "id": "33f5f3c6",
   "metadata": {},
   "outputs": [],
   "source": []
  }
 ],
 "metadata": {
  "kernelspec": {
   "display_name": "Python 3",
   "language": "python",
   "name": "python3"
  },
  "language_info": {
   "codemirror_mode": {
    "name": "ipython",
    "version": 3
   },
   "file_extension": ".py",
   "mimetype": "text/x-python",
   "name": "python",
   "nbconvert_exporter": "python",
   "pygments_lexer": "ipython3",
   "version": "3.8.2"
  }
 },
 "nbformat": 4,
 "nbformat_minor": 5
}
